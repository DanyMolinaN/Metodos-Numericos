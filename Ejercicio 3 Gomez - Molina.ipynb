{
 "cells": [
  {
   "cell_type": "markdown",
   "id": "5f33f5df",
   "metadata": {},
   "source": [
    "<div style=\"text-align: center;\">\n",
    "\n",
    "## Escuela Politécnica Nacional\n",
    "\n",
    "</div>\n",
    "\n",
    "**Integrantes:** \n",
    "\n",
    " Kevin Gómez\n",
    "\n",
    " Dany Molina Israel\n",
    "\n",
    "<div style=\"text-align: center;\">\n",
    "\n",
    "## Taller 1- Ejericio 3\n",
    "\n",
    "</div>\n",
    "\n",
    "### Serie de Fibonacci\n"
   ]
  },
  {
   "cell_type": "code",
   "execution_count": 5,
   "id": "ec19b626",
   "metadata": {},
   "outputs": [
    {
     "name": "stdout",
     "output_type": "stream",
     "text": [
      "n = 11, y = 89\n"
     ]
    }
   ],
   "source": [
    "def iterativo(n: int) -> int:\n",
    "    if n == 0:\n",
    "        return 0\n",
    "    x, y = 0, 1\n",
    "    for _ in range(1, n):\n",
    "        z = x + y\n",
    "        x = y\n",
    "        y = z\n",
    "    return y\n",
    "\n",
    "n = 11\n",
    "y = iterativo(n)\n",
    "print(f\"n = {n}, y = {y}\")  "
   ]
  },
  {
   "cell_type": "markdown",
   "id": "7a3a0fd9",
   "metadata": {},
   "source": [
    "### Codigo Modificado y optimizado"
   ]
  },
  {
   "cell_type": "code",
   "execution_count": 6,
   "id": "5b9674bb",
   "metadata": {},
   "outputs": [
    {
     "name": "stdout",
     "output_type": "stream",
     "text": [
      "Iterativo: 2.1652777194976807\n",
      "Optimizado: 0.001497030258178711\n"
     ]
    }
   ],
   "source": [
    "import time\n",
    "\n",
    "# Precálculo de la serie de Fibonacci\n",
    "fibs = [0, 1]\n",
    "for i in range(2, 5_000):\n",
    "    fibs.append(fibs[i-1] + fibs[i-2])\n",
    "\n",
    "def fibonacci_precalculado(n):\n",
    "    return fibs[n]\n",
    "\n",
    "# Método iterativo tradicional\n",
    "def fibonacci_iterativo(n: int) -> int:\n",
    "    if n == 0:\n",
    "        return 0\n",
    "    x, y = 0, 1\n",
    "    for _ in range(1, n):\n",
    "        x, y = y, x + y\n",
    "    return y\n",
    "\n",
    "# Medición del tiempo para el método iterativo\n",
    "inicio_t = time.time()\n",
    "[fibonacci_iterativo(x) for x in range(5_000)]\n",
    "fin_t = time.time()\n",
    "print(\"Iterativo:\", fin_t - inicio_t)\n",
    "\n",
    "# Medición del tiempo para el método optimizado (precargado)\n",
    "inicio_t = time.time()\n",
    "[fibonacci_precalculado(x) for x in range(5_000)]\n",
    "fin_t = time.time()\n",
    "print(\"Optimizado:\", fin_t - inicio_t)"
   ]
  }
 ],
 "metadata": {
  "kernelspec": {
   "display_name": "Python 3",
   "language": "python",
   "name": "python3"
  },
  "language_info": {
   "codemirror_mode": {
    "name": "ipython",
    "version": 3
   },
   "file_extension": ".py",
   "mimetype": "text/x-python",
   "name": "python",
   "nbconvert_exporter": "python",
   "pygments_lexer": "ipython3",
   "version": "3.13.3"
  }
 },
 "nbformat": 4,
 "nbformat_minor": 5
}
