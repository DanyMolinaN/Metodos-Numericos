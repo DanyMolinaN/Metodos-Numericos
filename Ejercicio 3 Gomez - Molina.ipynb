{
 "cells": [
  {
   "cell_type": "markdown",
   "id": "5f33f5df",
   "metadata": {},
   "source": [
    "<div style=\"text-align: center;\">\n",
    "\n",
    "## Escuela Politécnica Nacional\n",
    "\n",
    "</div>\n",
    "\n",
    "**Integrantes:** \n",
    "\n",
    " Kevin Gómez\n",
    "\n",
    " Dany Molina Israel\n",
    "\n",
    "<div style=\"text-align: center;\">\n",
    "\n",
    "## Taller 1- Ejericio 3\n",
    "\n",
    "</div>\n"
   ]
  },
  {
   "cell_type": "code",
   "execution_count": null,
   "id": "b8a6a9a4",
   "metadata": {},
   "outputs": [
    {
     "name": "stdout",
     "output_type": "stream",
     "text": [
      "y = 89\n"
     ]
    }
   ],
   "source": [
    "#Resolver el pseudocodigo\n",
    "\n",
    "def iterative(n):\n",
    "    if n == 0:\n",
    "        return 0\n",
    "    else:\n",
    "        x = 0\n",
    "        y = 1\n",
    "        for i in range(1, n):\n",
    "            z = x + y\n",
    "            x = y\n",
    "            y = z\n",
    "        return y\n",
    "\n",
    "# Valor de n = 11\n",
    "resultado = iterative(11)\n",
    "print(\"y =\", resultado)\n",
    "\n"
   ]
  },
  {
   "cell_type": "code",
   "execution_count": 24,
   "id": "8d5ccb74",
   "metadata": {},
   "outputs": [
    {
     "name": "stdout",
     "output_type": "stream",
     "text": [
      "y = 89\n",
      "Tiempo de ejecución: 3.647804260253906e-05 segundos\n"
     ]
    }
   ],
   "source": [
    "#Tiempo de ejecución del algoritmo original\n",
    "\n",
    "import time  # Importar la librería para medir el tiempo\n",
    "\n",
    "def iterative(n):\n",
    "    if n == 0:\n",
    "        return 0\n",
    "    else:\n",
    "        x = 0\n",
    "        y = 1\n",
    "        for i in range(1, n):\n",
    "            z = x + y\n",
    "            x = y\n",
    "            y = z\n",
    "        return y\n",
    "\n",
    "# Medir el tiempo de ejecución\n",
    "start_t = time.time()\n",
    "\n",
    "# Valor de n = 11\n",
    "resultado = iterative(11)\n",
    "\n",
    "end_t = time.time()\n",
    "\n",
    "# Mostrar resultados\n",
    "print(\"y =\", resultado)\n",
    "print(\"Tiempo de ejecución:\", end_t - start_t, \"segundos\")\n"
   ]
  },
  {
   "cell_type": "code",
   "execution_count": null,
   "id": "e0239d06",
   "metadata": {},
   "outputs": [
    {
     "name": "stdout",
     "output_type": "stream",
     "text": [
      "y = 89\n",
      "Versión optimizada: 0.0008974075317382812 segundos\n"
     ]
    }
   ],
   "source": [
    "#Algoritmo 03 optimizado\n",
    "import time\n",
    "\n",
    "# Precalcular hasta un límite grande\n",
    "def precalculate_fibonacci(limit):\n",
    "    fib = [0, 1]\n",
    "    for i in range(2, limit + 1):\n",
    "        fib.append(fib[-1] + fib[-2])\n",
    "    return fib\n",
    "\n",
    "# Crear la tabla de Fibonacci hasta n = 5000\n",
    "fib_cache = precalculate_fibonacci(5000)\n",
    "\n",
    "# Versión original del algoritmo\n",
    "def alg(n):\n",
    "    if n == 0:\n",
    "        return 0\n",
    "    else:\n",
    "        x = 0\n",
    "        y = 1\n",
    "        for i in range(1, n):\n",
    "            z = x + y\n",
    "            x = y\n",
    "            y = z\n",
    "        return y\n",
    "\n",
    "# Versión optimizada del algoritmo\n",
    "def alg_03(n):\n",
    "    if n == 0:\n",
    "        return 0\n",
    "    else:\n",
    "        return fib_cache[n]\n",
    "\n",
    "# Ejecución para el caso n = 11\n",
    "n = 11\n",
    "resultado = alg_03(n)\n",
    "print(\"y =\", resultado)  # Debería imprimir: y = 89\n",
    "\n",
    "# Medición de tiempo para la versión optimizada\n",
    "start_t = time.time()\n",
    "[alg_03(x) for x in range(5000)]\n",
    "end_t = time.time()\n",
    "print(\"Versión optimizada:\", end_t - start_t, \"segundos\")\n",
    "\n",
    "\n"
   ]
  }
 ],
 "metadata": {
  "kernelspec": {
   "display_name": "Python 3",
   "language": "python",
   "name": "python3"
  },
  "language_info": {
   "codemirror_mode": {
    "name": "ipython",
    "version": 3
   },
   "file_extension": ".py",
   "mimetype": "text/x-python",
   "name": "python",
   "nbconvert_exporter": "python",
   "pygments_lexer": "ipython3",
   "version": "3.13.1"
  }
 },
 "nbformat": 4,
 "nbformat_minor": 5
}
