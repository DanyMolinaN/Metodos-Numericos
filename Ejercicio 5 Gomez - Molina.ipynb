{
 "cells": [
  {
   "cell_type": "markdown",
   "id": "c1126c7a",
   "metadata": {},
   "source": [
    "<div style=\"text-align: center;\">\n",
    "\n",
    "## Escuela Politécnica Nacional\n",
    "\n",
    "</div>\n",
    "\n",
    "**Integrantes:** \n",
    "\n",
    " Kevin Gómez\n",
    "\n",
    " Dany Molina Israel\n",
    "\n",
    "<div style=\"text-align: center;\">\n",
    "\n",
    "## Taller 1- Ejericio 5\n",
    "\n",
    "</div>\n",
    "\n",
    "### FL rounding\n"
   ]
  },
  {
   "cell_type": "markdown",
   "id": "0d474c22",
   "metadata": {},
   "source": [
    "Determine la iteracion desde la cual el error relativo de y_(i+1)/y_i,(i>0) con respecto a ()"
   ]
  },
  {
   "cell_type": "code",
   "execution_count": null,
   "id": "7601e0c6",
   "metadata": {},
   "outputs": [],
   "source": [
    "from math import sqrt\n",
    "\n",
    "# Función de redondeo a cifras significativas\n",
    "def FL_rounding(num: float, digits: int) -> float:\n",
    "    num = float(f\"{num:.{digits - 1}e}\")\n",
    "    return num\n",
    "\n",
    "# Algoritmo 03 (iterativo)\n",
    "def fibonacci(n: int) -> int:\n",
    "    if n == 0:\n",
    "        return 0\n",
    "    x, y = 0, 1\n",
    "    for _ in range(1, n):\n",
    "        x, y = y, x + y\n",
    "    return y\n",
    "\n",
    "# Parámetros\n",
    "gr = (1 + sqrt(5)) / 2\n",
    "tolerancia = 1e-5\n",
    "\n",
    "i = 1\n",
    "while True:\n",
    "    y_i = fibonacci(i)\n",
    "    y_ip1 = fibonacci(i + 1)\n",
    "\n",
    "    # Redondeamos a 6 cifras significativas como ejemplo\n",
    "    ratio = FL_rounding(y_ip1 / y_i, 6)\n",
    "    gr_rounded = FL_rounding(gr, 6)\n",
    "    \n",
    "    error = abs((gr_rounded - ratio) / gr_rounded)\n",
    "    if error < tolerancia:\n",
    "        break\n",
    "    i += 1\n",
    "\n",
    "print(f\"La menor i donde el error relativo es < 10⁻⁵ con redondeo es: {i}\")\n"
   ]
  }
 ],
 "metadata": {
  "language_info": {
   "name": "python"
  }
 },
 "nbformat": 4,
 "nbformat_minor": 5
}
