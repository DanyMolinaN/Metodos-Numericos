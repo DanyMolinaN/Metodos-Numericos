{
 "cells": [
  {
   "cell_type": "markdown",
   "id": "c1126c7a",
   "metadata": {},
   "source": [
    "<div style=\"text-align: center;\">\n",
    "\n",
    "## Escuela Politécnica Nacional\n",
    "\n",
    "</div>\n",
    "\n",
    "**Integrantes:** \n",
    "\n",
    " Kevin Gómez\n",
    "\n",
    " Dany Molina Israel\n",
    "\n",
    "<div style=\"text-align: center;\">\n",
    "\n",
    "## Taller 1- Ejericio 5\n",
    "\n",
    "</div>\n",
    "\n",
    "### FL rounding\n"
   ]
  },
  {
   "cell_type": "markdown",
   "id": "0d474c22",
   "metadata": {},
   "source": [
    "Determine la iteracion desde la cual el error relativo de y_(i+1)/y_i,(i>0) con respecto a (1+√5)/2 esta dentro de 10^5"
   ]
  },
  {
   "cell_type": "code",
   "execution_count": 3,
   "id": "7601e0c6",
   "metadata": {},
   "outputs": [
    {
     "name": "stdout",
     "output_type": "stream",
     "text": [
      "La menor i donde el error relativo es < 10⁻⁵ es: 13\n"
     ]
    }
   ],
   "source": [
    "from math import sqrt\n",
    "\n",
    "# Función para redondear un número a una cantidad de cifras significativas\n",
    "def redondeo_cifras_significativas(num: float, cifras: int) -> float:\n",
    "    ''' Redondea el número `num` a `cifras` cifras significativas '''\n",
    "    num = float(f\"{num:.{cifras - 1}e}\")\n",
    "    return num\n",
    "\n",
    "# Algoritmo 03: cálculo del término n de Fibonacci (forma iterativa)\n",
    "def fibonacci(n: int) -> int:\n",
    "    if n == 0:\n",
    "        return 0\n",
    "    x, y = 0, 1\n",
    "    for _ in range(1, n):\n",
    "        x, y = y, x + y\n",
    "    return y\n",
    "\n",
    "# Definimos la razón áurea\n",
    "razon_aurea = (1 + sqrt(5)) / 2\n",
    "tolerancia = 1e-5\n",
    "\n",
    "# Buscamos desde qué i el error relativo es menor que 10⁻⁵\n",
    "i = 1\n",
    "while True:\n",
    "    y_i = fibonacci(i)\n",
    "    y_i_mas_1 = fibonacci(i + 1)\n",
    "\n",
    "    # Calculamos el cociente de términos consecutivos y lo redondeamos\n",
    "    cociente = redondeo_cifras_significativas(y_i_mas_1 / y_i, 6)\n",
    "    gr_redondeado = redondeo_cifras_significativas(razon_aurea, 6)\n",
    "\n",
    "    # Calculamos el error relativo\n",
    "    error = abs((gr_redondeado - cociente) / gr_redondeado)\n",
    "\n",
    "    if error < tolerancia:\n",
    "        break\n",
    "    i += 1\n",
    "\n",
    "print(f\"La menor i donde el error relativo es < 10⁻⁵ es: {i}\")\n"
   ]
  }
 ],
 "metadata": {
  "kernelspec": {
   "display_name": "Python 3",
   "language": "python",
   "name": "python3"
  },
  "language_info": {
   "codemirror_mode": {
    "name": "ipython",
    "version": 3
   },
   "file_extension": ".py",
   "mimetype": "text/x-python",
   "name": "python",
   "nbconvert_exporter": "python",
   "pygments_lexer": "ipython3",
   "version": "3.13.3"
  }
 },
 "nbformat": 4,
 "nbformat_minor": 5
}
