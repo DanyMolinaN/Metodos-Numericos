{
 "cells": [
  {
   "cell_type": "markdown",
   "metadata": {},
   "source": [
    "<div style=\"text-align: center;\">\n",
    "\n",
    "## Escuela Politécnica Nacional\n",
    "\n",
    "</div>\n",
    "\n",
    "**Integrantes:** \n",
    "\n",
    " Kevin Gómez\n",
    "\n",
    " Dany Molina Israel\n",
    "\n",
    "<div style=\"text-align: center;\">\n",
    "\n",
    "## Taller 1- Ejericio 1\n",
    "\n",
    "</div>\n"
   ]
  },
  {
   "cell_type": "code",
   "execution_count": 1,
   "metadata": {},
   "outputs": [
    {
     "name": "stdout",
     "output_type": "stream",
     "text": [
      "La lista de numeros es:  [1.0, 0.5, 0.25, 0.125, 0.0625, 0.03125, 0.015625, 0.0078125, 0.00390625, 0.001953125, 0.0009765625, 0.00048828125, 0.000244140625, 0.0001220703125, 6.103515625e-05]\n",
      "La suma de los elementos de la lista es:  1.99993896484375\n",
      "Error absoluto : 6.103515625e-05\n"
     ]
    }
   ],
   "source": [
    "def sumarElementos(n, X): #Funcion para calcular la suma de los elementos de la lista X \n",
    "    \n",
    "    return sum(X)\n",
    "\n",
    "# Crea la lista X con 15 elementos de la forma 1 / 2**x\n",
    "X = [1 / 2**x for x in range(15)]\n",
    "print('La lista de numeros es: ',X)\n",
    "\n",
    "# Llama a la funcion para calcular la suma de los elementos de la lista X\n",
    "sumatotal = sumarElementos(len(X), X)\n",
    "print('La suma de los elementos de la lista es: ', sumatotal)\n",
    "\n",
    "# Imprimir el resultado de 2 - r\n",
    "print(f'Error absoluto : {2 - sumatotal}')\n"
   ]
  },
  {
   "cell_type": "markdown",
   "metadata": {},
   "source": [
    "# Ejercicio Resuelto del Quizziz"
   ]
  },
  {
   "cell_type": "code",
   "execution_count": null,
   "metadata": {},
   "outputs": [
    {
     "name": "stdout",
     "output_type": "stream",
     "text": [
      "Cantidad de elementos necesarios: 5\n",
      "La suma de los elementos de la lista es: 1.9375\n"
     ]
    }
   ],
   "source": [
    "import numpy as np\n",
    "\n",
    "# Creamos la lista de términos\n",
    "lista = np.array([1 / 2**x for x in range(15)])\n",
    "\n",
    "suma = 0\n",
    "contador = 0\n",
    "\n",
    "# Recorrer cada término de la lista\n",
    "for i in lista:\n",
    "    contador += 1\n",
    "    suma += i\n",
    "    if abs(2 - suma) <= 0.1:  # Corregimos la condición aquí\n",
    "        print(\"Cantidad de elementos necesarios:\", contador)\n",
    "        break\n",
    "\n",
    "print(\"La suma de los elementos de la lista es:\", suma)"
   ]
  }
 ],
 "metadata": {
  "kernelspec": {
   "display_name": "Python 3",
   "language": "python",
   "name": "python3"
  },
  "language_info": {
   "codemirror_mode": {
    "name": "ipython",
    "version": 3
   },
   "file_extension": ".py",
   "mimetype": "text/x-python",
   "name": "python",
   "nbconvert_exporter": "python",
   "pygments_lexer": "ipython3",
   "version": "3.13.3"
  }
 },
 "nbformat": 4,
 "nbformat_minor": 2
}
