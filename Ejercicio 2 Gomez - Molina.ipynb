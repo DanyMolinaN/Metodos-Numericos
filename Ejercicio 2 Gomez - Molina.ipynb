{
 "cells": [
  {
   "cell_type": "markdown",
   "id": "fc8c3fb9",
   "metadata": {},
   "source": [
    "<div style=\"text-align: center;\">\n",
    "\n",
    "## Escuela Politécnica Nacional\n",
    "\n",
    "</div>\n",
    "\n",
    "**Integrantes:** \n",
    "\n",
    " Kevin Gómez\n",
    "\n",
    " Dany Molina\n",
    "\n",
    "<div style=\"text-align: center;\">\n",
    "\n",
    "## Taller 1- Ejericio 2\n",
    "\n",
    "</div>\n"
   ]
  }
 ],
 "metadata": {
  "language_info": {
   "name": "python"
  }
 },
 "nbformat": 4,
 "nbformat_minor": 5
}
