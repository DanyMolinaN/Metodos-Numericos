{
 "cells": [
  {
   "cell_type": "markdown",
   "id": "fc8c3fb9",
   "metadata": {},
   "source": [
    "<div style=\"text-align: center;\">\n",
    "\n",
    "## Escuela Politécnica Nacional\n",
    "\n",
    "</div>\n",
    "\n",
    "**Integrantes:** \n",
    "\n",
    " Kevin Gómez\n",
    "\n",
    " Dany Molina Israel\n",
    "\n",
    "<div style=\"text-align: center;\">\n",
    "\n",
    "## Taller 1- Ejericio 2\n",
    "\n",
    "</div>\n"
   ]
  },
  {
   "cell_type": "markdown",
   "id": "635c5c0a",
   "metadata": {},
   "source": [
    "### Conteo de intercambios en una lista desorenada"
   ]
  },
  {
   "cell_type": "code",
   "execution_count": 7,
   "id": "72d70740",
   "metadata": {},
   "outputs": [
    {
     "name": "stdout",
     "output_type": "stream",
     "text": [
      "El array ordenado es: [1 2 3 4 5]\n",
      "Número de intercambios realizados: 10\n"
     ]
    }
   ],
   "source": [
    "import numpy as np\n",
    "\n",
    "def intercambiar(array, i, j):\n",
    "    array[i], array[j] = array[j], array[i]\n",
    "\n",
    "array = np.array([5, 4, 3, 2, 1])\n",
    "num_intercambios = 0\n",
    "\n",
    "for i in range(len(array)):\n",
    "    hay_cambio = False\n",
    "    for j in range(len(array) - 1 - i):  \n",
    "        if array[j] > array[j + 1]:\n",
    "            intercambiar(array, j, j + 1)\n",
    "            hay_cambio = True\n",
    "            num_intercambios += 1\n",
    "    if not hay_cambio:\n",
    "        break\n",
    "\n",
    "print('El array ordenado es:', array)\n",
    "print('Número de intercambios realizados:', num_intercambios)\n"
   ]
  }
 ],
 "metadata": {
  "kernelspec": {
   "display_name": "Python 3",
   "language": "python",
   "name": "python3"
  },
  "language_info": {
   "codemirror_mode": {
    "name": "ipython",
    "version": 3
   },
   "file_extension": ".py",
   "mimetype": "text/x-python",
   "name": "python",
   "nbconvert_exporter": "python",
   "pygments_lexer": "ipython3",
   "version": "3.13.3"
  }
 },
 "nbformat": 4,
 "nbformat_minor": 5
}
